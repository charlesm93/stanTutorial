{
  "nbformat": 4,
  "nbformat_minor": 0,
  "metadata": {
    "colab": {
      "provenance": [],
      "authorship_tag": "ABX9TyOrzNUt7Nq3GcwYrcePYdR6",
      "include_colab_link": true
    },
    "kernelspec": {
      "name": "ir",
      "display_name": "R"
    },
    "language_info": {
      "name": "R"
    }
  },
  "cells": [
    {
      "cell_type": "markdown",
      "metadata": {
        "id": "view-in-github",
        "colab_type": "text"
      },
      "source": [
        "<a href=\"https://colab.research.google.com/github/charlesm93/stanTutorial/blob/main/Nordic_Prob_AI/CourseScript_probAI.ipynb\" target=\"_parent\"><img src=\"https://colab.research.google.com/assets/colab-badge.svg\" alt=\"Open In Colab\"/></a>"
      ]
    },
    {
      "cell_type": "markdown",
      "source": [
        "# Nording Probabilistic AI summer school: Monte Carlo methods\n",
        "\n",
        "2024. Instructor: Charles Margossian\n",
        "\n",
        "This notebook contains R scripts to do the exercises. Throughout, we will use Stan. The scripts below install Stan, as well as some other useful packages."
      ],
      "metadata": {
        "id": "QxrU66qNfxde"
      }
    },
    {
      "cell_type": "code",
      "execution_count": null,
      "metadata": {
        "colab": {
          "base_uri": "https://localhost:8080/",
          "height": 129
        },
        "id": "qQyMMYEQO340",
        "outputId": "251e4fd8-1a30-4a90-b550-8724ef599074"
      },
      "outputs": [
        {
          "output_type": "display_data",
          "data": {
            "text/html": [
              "<table class=\"dataframe\">\n",
              "<caption>A matrix: 2 × 6 of type dbl</caption>\n",
              "<thead>\n",
              "\t<tr><th></th><th scope=col>used</th><th scope=col>(Mb)</th><th scope=col>gc trigger</th><th scope=col>(Mb)</th><th scope=col>max used</th><th scope=col>(Mb)</th></tr>\n",
              "</thead>\n",
              "<tbody>\n",
              "\t<tr><th scope=row>Ncells</th><td>1466891</td><td>78.4</td><td> 2643336</td><td>141.2</td><td> 2643336</td><td>141.2</td></tr>\n",
              "\t<tr><th scope=row>Vcells</th><td>2772786</td><td>21.2</td><td>10146329</td><td> 77.5</td><td>10146317</td><td> 77.5</td></tr>\n",
              "</tbody>\n",
              "</table>\n"
            ],
            "text/markdown": "\nA matrix: 2 × 6 of type dbl\n\n| <!--/--> | used | (Mb) | gc trigger | (Mb) | max used | (Mb) |\n|---|---|---|---|---|---|---|\n| Ncells | 1466891 | 78.4 |  2643336 | 141.2 |  2643336 | 141.2 |\n| Vcells | 2772786 | 21.2 | 10146329 |  77.5 | 10146317 |  77.5 |\n\n",
            "text/latex": "A matrix: 2 × 6 of type dbl\n\\begin{tabular}{r|llllll}\n  & used & (Mb) & gc trigger & (Mb) & max used & (Mb)\\\\\n\\hline\n\tNcells & 1466891 & 78.4 &  2643336 & 141.2 &  2643336 & 141.2\\\\\n\tVcells & 2772786 & 21.2 & 10146329 &  77.5 & 10146317 &  77.5\\\\\n\\end{tabular}\n",
            "text/plain": [
              "       used    (Mb) gc trigger (Mb)  max used (Mb) \n",
              "Ncells 1466891 78.4  2643336   141.2  2643336 141.2\n",
              "Vcells 2772786 21.2 10146329    77.5 10146317  77.5"
            ]
          },
          "metadata": {}
        }
      ],
      "source": [
        "rm(list = ls())\n",
        "gc()\n",
        "\n",
        "set.seed(1954)"
      ]
    },
    {
      "cell_type": "code",
      "source": [
        "# Set size of output plots (adjust to your preferences)\n",
        "options(repr.plot.width = 7, repr.plot.height = 3.5, repr.plot.res = 200)"
      ],
      "metadata": {
        "id": "cG7jv6sHltdD"
      },
      "execution_count": null,
      "outputs": []
    },
    {
      "cell_type": "markdown",
      "source": [
        "## Install requisite packages"
      ],
      "metadata": {
        "id": "7DsXtJJvPgzB"
      }
    },
    {
      "cell_type": "code",
      "source": [
        "install_packages <- TRUE\n",
        "if (install_packages) {\n",
        "  install.packages(\"rjson\")\n",
        "  install.packages(\"posterior\")\n",
        "  install.packages(\"bayesplot\")\n",
        "  install.packages(\"outbreaks\")\n",
        "  install.packages(\"loo\")\n",
        "  install.packages(\"gridExtra\")\n",
        "}"
      ],
      "metadata": {
        "id": "KFJXO8NIPkGB"
      },
      "execution_count": null,
      "outputs": []
    },
    {
      "cell_type": "code",
      "source": [
        "if (install_packages) {\n",
        "  install.packages(\"cmdstanr\", repos = c(\"https://mc-stan.org/r-packages/\", getOption(\"repos\")))\n",
        "  library(cmdstanr)\n",
        "  install_cmdstan()\n",
        "}"
      ],
      "metadata": {
        "id": "ykBLc-nbQWWf"
      },
      "execution_count": null,
      "outputs": []
    },
    {
      "cell_type": "markdown",
      "source": [
        "## Load packages"
      ],
      "metadata": {
        "id": "pxPpJFimnZd4"
      }
    },
    {
      "cell_type": "code",
      "source": [
        "library(rjson)\n",
        "library(bayesplot)\n",
        "library(posterior)\n",
        "library(ggplot2)\n",
        "library(cmdstanr)\n",
        "library(parallel)\n",
        "library(loo)\n",
        "library(outbreaks)\n",
        "library(gridExtra)"
      ],
      "metadata": {
        "id": "nqwhXeVknGJn"
      },
      "execution_count": null,
      "outputs": []
    },
    {
      "cell_type": "code",
      "source": [
        "mc.cores = detectCores()"
      ],
      "metadata": {
        "id": "fejvTX99oZGc"
      },
      "execution_count": null,
      "outputs": []
    },
    {
      "cell_type": "markdown",
      "source": [
        "Utility function for analyzing the output of `loo` package."
      ],
      "metadata": {
        "id": "5RFeBKtMwErC"
      }
    },
    {
      "cell_type": "code",
      "source": [
        "\n",
        "is_summary <- function (fit, parms, psis_fit, log_ratios) {\n",
        "  mean <- c()\n",
        "  var <- c()\n",
        "  q5 <- c()\n",
        "  q25 <- c()\n",
        "  q50 <- c()\n",
        "  q75 <- c()\n",
        "  q95 <- c()\n",
        "  khat <- c()\n",
        "\n",
        "  for (i in 1:length(parms)) {\n",
        "    parm_draw <- fit$draws(parms[i])\n",
        "    mean <- c(mean, E_loo(parm_draw, psis_fit, log_ratios = log_ratios, type = \"mean\")$value)\n",
        "    var <- c(var, E_loo(parm_draw, psis_fit, log_ratios = log_ratios, type = \"var\")$value)\n",
        "    q5 <- c(q5, E_loo(parm_draw, psis_fit, log_ratios = log_ratios, type = \"quantile\", probs = 0.05)$value)\n",
        "    q25 <- c(q25, E_loo(parm_draw, psis_fit, log_ratios = log_ratios, type = \"quantile\", probs = 0.25)$value)\n",
        "    q50 <- c(q50, E_loo(parm_draw, psis_fit, log_ratios = log_ratios, type = \"quantile\", probs = 0.5)$value)\n",
        "    q75 <- c(q75, E_loo(parm_draw, psis_fit, log_ratios = log_ratios, type = \"quantile\", probs = 0.75)$value)\n",
        "    q95 <- c(q95, E_loo(parm_draw, psis_fit, log_ratios = log_ratios, type = \"quantile\", probs = 0.95)$value)\n",
        "    khat <- c(khat, E_loo(parm_draw, psis_fit, log_ratios = log_ratios, type = \"mean\")$pareto_k)\n",
        "  }\n",
        "\n",
        "  summary <- data.frame(parms = parms, mean = mean, var = var, q5 = q5, q25 = q25, q50 = q50,\n",
        "                        q75 = q75, q95 = q95, khat = khat)\n",
        "  return(summary)\n",
        "}\n"
      ],
      "metadata": {
        "id": "Ljey-CwrwD28"
      },
      "execution_count": null,
      "outputs": []
    },
    {
      "cell_type": "markdown",
      "source": [
        "## Bayesian Linear Regression\n",
        "\n"
      ],
      "metadata": {
        "id": "EVUTMq1And9y"
      }
    },
    {
      "cell_type": "code",
      "source": [
        "data <- list(N = 10,\n",
        "             x = 1:10,\n",
        "             y = c(12.03037, 13.86786, 16.00795, 18.29419, 20.26679, 22.38664,\n",
        "                   23.95751, 25.71993, 28.09961, 30.46859))\n",
        "\n",
        "# define starting distribution\n",
        "init <- function() {\n",
        "  list(sigma = rgamma(1, 1),\n",
        "       beta = rnorm(1, mean = 1, sd = 1))\n",
        "}"
      ],
      "metadata": {
        "id": "YXgX3mrEnc2e"
      },
      "execution_count": null,
      "outputs": []
    },
    {
      "cell_type": "code",
      "source": [
        "# transpile (translate Stan to C++ and then compile)\n",
        "mod <- cmdstan_model(\"model/linear.stan\")"
      ],
      "metadata": {
        "id": "kwzRWKzYnlBC"
      },
      "execution_count": null,
      "outputs": []
    },
    {
      "cell_type": "code",
      "source": [
        "# run sampler\n",
        "fit <- mod$sample(data = data, chains = n_chains,\n",
        "                  init = init,\n",
        "                  save_warmup = TRUE,\n",
        "                  parallel_chains = 4,\n",
        "                  num_warmup = 1000,\n",
        "                  num_samples = 1000)\n"
      ],
      "metadata": {
        "id": "wMuePcACn_IZ"
      },
      "execution_count": null,
      "outputs": []
    },
    {
      "cell_type": "code",
      "source": [
        "# Examine Stan's default summaries\n",
        "fit$summary()"
      ],
      "metadata": {
        "id": "B3lYrt0OpGo8"
      },
      "execution_count": null,
      "outputs": []
    },
    {
      "cell_type": "code",
      "source": [
        "# Construct diagnostic plots\n",
        "pars <- c(\"beta\", \"sigma\")\n",
        "bayesplot::mcmc_trace(fit$draws(inc_warmup = TRUE),\n",
        "                      n_warmup = 1000, pars = pars)\n"
      ],
      "metadata": {
        "id": "HBWjYcn6pIjx"
      },
      "execution_count": null,
      "outputs": []
    },
    {
      "cell_type": "code",
      "source": [
        "bayesplot::mcmc_dens_overlay(fit$draws(), pars = pars)"
      ],
      "metadata": {
        "id": "FlZtAbx1pgye"
      },
      "execution_count": null,
      "outputs": []
    },
    {
      "cell_type": "code",
      "source": [
        "# Extract posterior predictive checks\n",
        "yrep <- as.matrix(\n",
        "  as_draws_df(fit$draws(variables = c(\"y_pred\"))))\n",
        "head(yrep)"
      ],
      "metadata": {
        "id": "P3l5ItILpj8r"
      },
      "execution_count": null,
      "outputs": []
    },
    {
      "cell_type": "code",
      "source": [
        "# We don't need the chain, iteration and draw ID, so let's remove them.\n",
        "yrep <- yrep[, -(11:13)]\n",
        "\n",
        "# Plot the posterior predictions and compare it to the real data.\n",
        "bayesplot::ppc_ribbon(y = data$y, yrep = yrep, x = data$x,\n",
        "                      y_draw = \"point\") +\n",
        "  theme_bw() +\n",
        "  ylab(\"y\")\n"
      ],
      "metadata": {
        "id": "7DIAclhGpmO0"
      },
      "execution_count": null,
      "outputs": []
    },
    {
      "cell_type": "markdown",
      "source": [
        "## Disease Transmission model"
      ],
      "metadata": {
        "id": "z_KbL3zUpwwc"
      }
    },
    {
      "cell_type": "code",
      "source": [
        "theme_set(theme_bw())\n",
        "ggplot(data = influenza_england_1978_school) +\n",
        "  geom_point(mapping = aes(x = date, y = in_bed)) +\n",
        "  labs(y = \"Number of students in bed\")\n"
      ],
      "metadata": {
        "id": "AAbs-7g2qIrg"
      },
      "execution_count": null,
      "outputs": []
    },
    {
      "cell_type": "code",
      "source": [
        "# create a data list to be passed to Stan\n",
        "cases <- influenza_england_1978_school$in_bed\n",
        "N <- 763;\n",
        "n_days <- length(cases)\n",
        "t <- seq(0, n_days, by = 1)\n",
        "t0 = 0\n",
        "t <- t[-1]\n",
        "\n",
        "#initial conditions\n",
        "i0 <- 1\n",
        "s0 <- N - i0\n",
        "r0 <- 0\n",
        "y0 = c(S = s0, I = i0, R = r0)\n",
        "\n",
        "data_sir <- list(n_days = n_days, y0 = y0, t0 = t0, ts = t,\n",
        "                 N = N, cases = cases)\n"
      ],
      "metadata": {
        "id": "KqSuVvepqxDp"
      },
      "execution_count": null,
      "outputs": []
    },
    {
      "cell_type": "code",
      "source": [
        "# define starting distribution\n",
        "init <- function() {\n",
        "  list(beta = abs(rnorm(1, mean = 2, sd = 1)),\n",
        "       gamma = abs(rnorm(1, mean = 0.4, sd = 0.5)),\n",
        "       phi_inv = rexp(1, rate = 5))\n",
        "}\n",
        "\n",
        "# transpile (translate Stan to C++ and then compile)\n",
        "mod <- cmdstan_model(\"model/sir.stan\")\n",
        "\n",
        "n_chains <- 4\n",
        "fit <- mod$sample(data = data_sir,\n",
        "                  init = init,\n",
        "                  save_warmup = TRUE,\n",
        "                  parallel_chains = 4,\n",
        "                  num_warmup = 1000,\n",
        "                  num_samples = 1000)\n"
      ],
      "metadata": {
        "id": "QqjpifTeq4IS"
      },
      "execution_count": null,
      "outputs": []
    },
    {
      "cell_type": "code",
      "source": [
        "pars <- c(\"gamma\", \"beta\", \"phi\", \"R0\")\n",
        "fit$summary(variables = pars)\n",
        "\n",
        "bayesplot::mcmc_trace(fit$draws(inc_warmup = TRUE),\n",
        "                      n_warmup = 1000, pars = pars)\n",
        "bayesplot::mcmc_dens_overlay(fit$draws(), pars = pars)\n",
        "\n",
        "# Extract posterior predictive checks\n",
        "pred_cases <- as.matrix(\n",
        "  as_draws_df(fit$draws(variables = c(\"pred_cases\"))))[, -(15:17)]\n",
        "\n",
        "bayesplot::ppc_ribbon(y = data_sir$cases, yrep = pred_cases,\n",
        "                      x = data_sir$ts, y_draw = \"point\") +\n",
        "  theme_bw() +\n",
        "  ylab(\"cases\") + xlab(\"days\")"
      ],
      "metadata": {
        "id": "jvpiaHodsw1t"
      },
      "execution_count": null,
      "outputs": []
    },
    {
      "cell_type": "code",
      "source": [
        "## Run same model with a Poisson likelihood\n",
        "\n",
        "mod <- cmdstan_model(\"model/sir_poisson.stan\")\n",
        "\n",
        "fit_poisson <- mod$sample(data = data_sir,\n",
        "                          init = init,\n",
        "                          save_warmup = TRUE,\n",
        "                          parallel_chains = 4,\n",
        "                          num_warmup = 1000,\n",
        "                          num_samples = 1000)\n",
        "\n"
      ],
      "metadata": {
        "id": "gwgX518ks3eY"
      },
      "execution_count": null,
      "outputs": []
    },
    {
      "cell_type": "code",
      "source": [
        "fit_poisson$summary(variables = pars)\n",
        "\n",
        "pred_cases_poisson <- as.matrix(\n",
        "  as_draws_df(fit_poisson$draws(variables = c(\"pred_cases\"))))[, -(15:17)]\n",
        "\n",
        "bayesplot::ppc_ribbon(y = data_sir$cases, yrep = pred_cases_poisson,\n",
        "                      x = data_sir$ts, y_draw = \"point\") +\n",
        "  theme_bw() +\n",
        "  ylab(\"cases\") + xlab(\"days\")"
      ],
      "metadata": {
        "id": "TYVNNzCGuIfU"
      },
      "execution_count": null,
      "outputs": []
    },
    {
      "cell_type": "code",
      "source": [
        "# compute PSIS-loo estimate\n",
        "\n",
        "log_lik_draws <- fit$draws(\"log_lik\")\n",
        "loo_estimate <- loo(log_lik_draws, r_eff = relative_eff(log_lik_draws))\n",
        "\n",
        "\n",
        "log_lik_draws_poisson <- fit_poisson$draws(\"log_lik\")\n",
        "loo_estimate_poisson <-\n",
        "  loo(log_lik_draws_poisson, r_eff = relative_eff(log_lik_draws_poisson))\n",
        "\n",
        "print(loo_estimate_poisson)\n",
        "print(loo_estimate)"
      ],
      "metadata": {
        "id": "hahreUCyuY_O"
      },
      "execution_count": null,
      "outputs": []
    }
  ]
}